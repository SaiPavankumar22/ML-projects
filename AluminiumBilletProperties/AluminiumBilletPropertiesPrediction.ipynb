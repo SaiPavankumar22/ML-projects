{
  "nbformat": 4,
  "nbformat_minor": 0,
  "metadata": {
    "colab": {
      "provenance": []
    },
    "kernelspec": {
      "name": "python3",
      "display_name": "Python 3"
    },
    "language_info": {
      "name": "python"
    }
  },
  "cells": [
    {
      "cell_type": "code",
      "execution_count": null,
      "metadata": {
        "id": "2e-dA3VUii-g"
      },
      "outputs": [],
      "source": [
        "import pandas as pd\n",
        "from sklearn.model_selection import train_test_split, GridSearchCV\n",
        "from sklearn.tree import DecisionTreeRegressor\n",
        "from sklearn.svm import SVR\n",
        "from sklearn.ensemble import RandomForestRegressor\n",
        "import joblib"
      ]
    },
    {
      "cell_type": "code",
      "source": [
        "data = pd.read_csv('wire_rod_casting_parameters.csv')"
      ],
      "metadata": {
        "id": "6Y1300H9rquf"
      },
      "execution_count": null,
      "outputs": []
    },
    {
      "cell_type": "code",
      "source": [
        "param_grid_svm = {'C': [0.1, 1, 10], 'kernel': ['linear', 'rbf']}\n",
        "param_grid_dt = {'max_depth': [5, 10, 15], 'min_samples_split': [2, 5, 10]}\n",
        "param_grid_rf = {'n_estimators': [100, 200], 'max_depth': [5, 10, 15]}\n",
        "models = {'SVR': (SVR(), param_grid_svm),\n",
        "    'DecisionTree': (DecisionTreeRegressor(), param_grid_dt),\n",
        "    'RandomForest': (RandomForestRegressor(), param_grid_rf)\n",
        "}"
      ],
      "metadata": {
        "id": "DGVu0qokweWJ"
      },
      "execution_count": null,
      "outputs": []
    },
    {
      "cell_type": "code",
      "source": [
        "def find_best_model(X_train, y_train, X_test, y_test, target_name):\n",
        "    best_model = None\n",
        "    best_score = -float('inf')\n",
        "    for model_name, (model, param_grid) in models.items():\n",
        "        grid_search = GridSearchCV(model, param_grid, cv=5, scoring='neg_mean_squared_error', n_jobs=-1)\n",
        "        grid_search.fit(X_train, y_train)\n",
        "        score = grid_search.best_estimator_.score(X_test, y_test)\n",
        "        print(f\"Model: {model_name}, Target: {target_name}, Best Params: {grid_search.best_params_}, Score: {score}\")\n",
        "        if score > best_score:\n",
        "            best_score = score\n",
        "            best_model = grid_search.best_estimator_\n",
        "    print(f\"\\nBest model for {target_name}: {type(best_model).__name__} with score: {best_score}\\n\")\n",
        "    return best_model"
      ],
      "metadata": {
        "id": "7ibtcAM0vue2"
      },
      "execution_count": null,
      "outputs": []
    },
    {
      "cell_type": "code",
      "source": [
        "X = data.drop(columns=['UTS_MPa', 'Elongation_percent', 'Conductivity_IACS'])"
      ],
      "metadata": {
        "id": "E50nd-BCrwTH"
      },
      "execution_count": null,
      "outputs": []
    },
    {
      "cell_type": "markdown",
      "source": [
        "Ultimate Tensile Strength Model"
      ],
      "metadata": {
        "id": "8cyGMsiMv6W2"
      }
    },
    {
      "cell_type": "code",
      "source": [
        "y_uts = data['UTS_MPa']"
      ],
      "metadata": {
        "id": "MBqgLw0xv94y"
      },
      "execution_count": null,
      "outputs": []
    },
    {
      "cell_type": "code",
      "source": [
        "X_train, X_test, y_uts_train, y_uts_test = train_test_split(X, y_uts, test_size=0.2, random_state=42)"
      ],
      "metadata": {
        "id": "y6BEOl_Qr2WW"
      },
      "execution_count": null,
      "outputs": []
    },
    {
      "cell_type": "code",
      "source": [
        "best_model_uts = find_best_model(X_train, y_uts_train, X_test, y_uts_test, \"UTS\")"
      ],
      "metadata": {
        "colab": {
          "base_uri": "https://localhost:8080/"
        },
        "id": "3MQVfrhYr7db",
        "outputId": "c26cb412-fa67-40f6-eb4d-426e5f2f0bd0"
      },
      "execution_count": null,
      "outputs": [
        {
          "output_type": "stream",
          "name": "stdout",
          "text": [
            "Model: SVR, Target: UTS, Best Params: {'C': 1, 'kernel': 'linear'}, Score: 0.9942842818137027\n",
            "Model: DecisionTree, Target: UTS, Best Params: {'max_depth': 15, 'min_samples_split': 2}, Score: 0.9817276690951665\n",
            "Model: RandomForest, Target: UTS, Best Params: {'max_depth': 15, 'n_estimators': 200}, Score: 0.9935249062312469\n",
            "\n",
            "Best model for UTS: SVR with score: 0.9942842818137027\n",
            "\n"
          ]
        }
      ]
    },
    {
      "cell_type": "code",
      "source": [
        "y_uts_pred = best_model_uts.predict(X_test)\n",
        "accuracy_uts = best_model_uts.score(X_test, y_uts_test)"
      ],
      "metadata": {
        "id": "-uPJ2oIBsDv3"
      },
      "execution_count": null,
      "outputs": []
    },
    {
      "cell_type": "code",
      "source": [
        "y_uts_pred"
      ],
      "metadata": {
        "colab": {
          "base_uri": "https://localhost:8080/"
        },
        "id": "sZULrQjksPI0",
        "outputId": "4cbea98c-9291-4207-9a43-1af88751481e"
      },
      "execution_count": null,
      "outputs": [
        {
          "output_type": "execute_result",
          "data": {
            "text/plain": [
              "array([206.92558529, 185.86288291, 194.54867097, 198.18270517,\n",
              "       209.88480681, 208.67423892, 196.23492814, 203.78887062,\n",
              "       194.19534872, 200.58579921, 186.66212907, 195.82772325,\n",
              "       201.80364813, 190.82878344, 190.67313761, 193.66026007,\n",
              "       195.71464326, 208.78821986, 186.0390537 , 199.97961572,\n",
              "       190.40863393, 207.72309838, 192.24356723, 188.03025102,\n",
              "       205.95766584, 196.03456879, 179.07403075, 186.35919709,\n",
              "       187.69931938, 200.79365168, 198.49432245, 198.76477634,\n",
              "       207.19951217, 208.19704039, 202.41670609, 208.54393928,\n",
              "       207.06286449, 208.89826113, 193.76706381, 188.65730957,\n",
              "       196.88966221, 189.18886323, 195.73994371, 194.1402981 ,\n",
              "       200.79529724, 198.96569069, 187.45862044, 200.56829772,\n",
              "       188.43843275, 199.948829  , 191.88200365, 181.91421424,\n",
              "       187.80361874, 206.58057192, 208.10641688, 207.53827153,\n",
              "       202.48453518, 184.37394934, 201.05352936, 200.47768479,\n",
              "       193.53235819, 184.78241637, 196.04734562, 195.14827143,\n",
              "       212.21734752, 191.28204623, 193.44242778, 188.35475831,\n",
              "       198.41716703, 202.26863985, 183.91761484, 206.14622601,\n",
              "       199.17200776, 194.69067226, 208.19860329, 188.42193773,\n",
              "       197.62175439, 189.03522297, 210.54847082, 202.11150117,\n",
              "       205.38680181, 188.11771745, 191.22007617, 204.75866422,\n",
              "       214.54167662, 185.55209418, 194.01324037, 207.44848436,\n",
              "       205.71724659, 198.27292506, 194.22999834, 196.5243973 ,\n",
              "       199.40015354, 196.60133924, 200.16394332, 192.26698901,\n",
              "       186.39866312, 207.9355495 , 214.55847548, 183.93103957,\n",
              "       192.5426674 , 203.32158719, 188.01643641, 203.57633732,\n",
              "       187.93171409, 207.49437988, 191.8363382 , 206.47983268,\n",
              "       209.54610197, 186.65104513, 197.86796384, 202.64347145,\n",
              "       189.28335714, 192.48675882, 184.70378219, 207.64107122,\n",
              "       189.57846682, 181.56285319, 210.09048949, 197.10931282,\n",
              "       201.40592944, 206.75048209, 190.45908074, 203.9784468 ,\n",
              "       203.41519476, 211.49614825, 209.54148976, 212.71548924,\n",
              "       188.96093862, 205.30211425, 193.23690956, 184.76225827,\n",
              "       207.16250303, 184.23722828, 190.3644374 , 212.82245098,\n",
              "       199.24287195, 203.89550676, 202.51252045, 197.79781425,\n",
              "       184.2054535 , 191.28729085, 197.36839518, 184.36209051,\n",
              "       189.62963276, 190.90881697, 187.6911749 , 189.12493163,\n",
              "       190.65339981, 211.05470328, 200.1734039 , 198.85796471,\n",
              "       203.92866532, 185.89328252, 194.23418866, 194.86725117,\n",
              "       202.60798705, 191.34724418, 209.34690347, 193.04815713,\n",
              "       196.94494654, 208.6968525 , 186.80542208, 208.54780051,\n",
              "       203.90037748, 204.69126258, 211.70690979, 184.66556836,\n",
              "       192.19067514, 200.9128098 , 187.78324452, 211.94435318,\n",
              "       183.6547691 , 202.52205798, 206.42066912, 201.12093158,\n",
              "       198.940715  , 205.89135542, 196.33446534, 203.06588209,\n",
              "       197.71298629, 195.62083078, 186.10598126, 207.40824939,\n",
              "       192.56469591, 188.60974862, 206.72352878, 204.83787873,\n",
              "       196.03294994, 202.06388575, 197.72242118, 200.99929985,\n",
              "       208.76261827, 197.55551834, 209.51884285])"
            ]
          },
          "metadata": {},
          "execution_count": 10
        }
      ]
    },
    {
      "cell_type": "code",
      "source": [
        "accuracy_uts"
      ],
      "metadata": {
        "colab": {
          "base_uri": "https://localhost:8080/"
        },
        "id": "0oDHfY1gsX93",
        "outputId": "b8e541c5-e014-477d-b7f8-e1d2329d8006"
      },
      "execution_count": null,
      "outputs": [
        {
          "output_type": "execute_result",
          "data": {
            "text/plain": [
              "0.9942842818137027"
            ]
          },
          "metadata": {},
          "execution_count": 11
        }
      ]
    },
    {
      "cell_type": "markdown",
      "source": [
        "Elongation percentage model"
      ],
      "metadata": {
        "id": "sYDyWW1Gso39"
      }
    },
    {
      "cell_type": "code",
      "source": [
        "y_elongation = data['Elongation_percent']"
      ],
      "metadata": {
        "id": "A8MViHSGsoY_"
      },
      "execution_count": null,
      "outputs": []
    },
    {
      "cell_type": "code",
      "source": [
        "X_train, X_test, y_elongation_train, y_elongation_test = train_test_split(X, y_elongation, test_size=0.2, random_state=42)"
      ],
      "metadata": {
        "id": "56140Gehs-_0"
      },
      "execution_count": null,
      "outputs": []
    },
    {
      "cell_type": "code",
      "source": [
        "best_model_elongation = find_best_model(X_train, y_elongation_train, X_test, y_elongation_test, \"Elongation\")"
      ],
      "metadata": {
        "colab": {
          "base_uri": "https://localhost:8080/"
        },
        "id": "OYlxPwvztHob",
        "outputId": "90099e5c-b8ac-4e3d-bc57-af6fc9d23b3c"
      },
      "execution_count": null,
      "outputs": [
        {
          "output_type": "stream",
          "name": "stdout",
          "text": [
            "Model: SVR, Target: Elongation, Best Params: {'C': 0.1, 'kernel': 'linear'}, Score: 0.9845682803549338\n",
            "Model: DecisionTree, Target: Elongation, Best Params: {'max_depth': 15, 'min_samples_split': 2}, Score: 0.9889106751729346\n",
            "Model: RandomForest, Target: Elongation, Best Params: {'max_depth': 10, 'n_estimators': 200}, Score: 0.995750602295408\n",
            "\n",
            "Best model for Elongation: RandomForestRegressor with score: 0.995750602295408\n",
            "\n"
          ]
        }
      ]
    },
    {
      "cell_type": "code",
      "source": [
        "y_elongation_pred = best_model_elongation.predict(X_test)\n",
        "accuracy_elongation = best_model_elongation.score(X_test, y_elongation_test)"
      ],
      "metadata": {
        "id": "8PUOpVKTx-pM"
      },
      "execution_count": null,
      "outputs": []
    },
    {
      "cell_type": "code",
      "source": [
        "y_elongation_pred"
      ],
      "metadata": {
        "colab": {
          "base_uri": "https://localhost:8080/"
        },
        "id": "17rssqZ8yERo",
        "outputId": "8b371206-dcaf-464b-b7cb-b49f638fd468"
      },
      "execution_count": null,
      "outputs": [
        {
          "output_type": "execute_result",
          "data": {
            "text/plain": [
              "array([22.        , 18.43280418, 19.90371817, 20.61349465, 21.9996238 ,\n",
              "       21.99909689, 20.51730476, 21.64024922, 19.73173869, 20.46969706,\n",
              "       18.22995813, 19.42940759, 21.44113039, 19.33023776, 19.44864153,\n",
              "       20.10602402, 19.6741519 , 21.9998119 , 18.50657179, 20.51692578,\n",
              "       19.44138605, 21.91218291, 19.51433363, 18.32919747, 21.97964805,\n",
              "       20.1337103 , 17.96689927, 18.65380365, 18.93841523, 21.27752043,\n",
              "       20.47192747, 20.79224378, 21.99276322, 22.        , 21.23430002,\n",
              "       21.89870266, 21.7642961 , 22.        , 19.1315504 , 18.74599634,\n",
              "       19.83470021, 19.19591946, 19.79993562, 19.87342727, 20.83961618,\n",
              "       20.33002672, 18.67467483, 20.17977521, 19.17461569, 20.5101809 ,\n",
              "       18.95784575, 18.10288202, 18.99553431, 21.35587723, 22.        ,\n",
              "       22.        , 20.90274146, 18.6106354 , 21.1653421 , 21.29125652,\n",
              "       19.8329893 , 18.2012583 , 20.18554498, 19.57623644, 22.        ,\n",
              "       19.16589798, 19.8485122 , 18.64244533, 20.77816569, 20.842327  ,\n",
              "       18.0107973 , 21.75571111, 20.58311384, 19.6529131 , 22.        ,\n",
              "       18.53435308, 20.49297969, 18.71401633, 21.99908759, 20.69746028,\n",
              "       21.63619671, 18.88461191, 18.98433779, 21.17479065, 22.        ,\n",
              "       18.26511036, 19.71811418, 21.9775768 , 21.40360088, 20.61395801,\n",
              "       19.74695196, 20.17421808, 20.86323076, 20.22683762, 20.615624  ,\n",
              "       19.35186428, 18.27620251, 21.96845737, 21.99559996, 18.05440702,\n",
              "       19.27279855, 21.58111943, 18.66056642, 21.25300987, 19.05059265,\n",
              "       22.        , 19.21633477, 22.        , 21.98475296, 18.71775862,\n",
              "       20.64579139, 21.51510154, 19.35392607, 19.37884302, 18.02312423,\n",
              "       21.88867468, 19.01288981, 18.08247013, 22.        , 20.02186656,\n",
              "       20.93257958, 21.67696521, 18.80799638, 21.59849843, 21.22346888,\n",
              "       22.        , 21.98906753, 22.        , 18.47689305, 21.98907275,\n",
              "       19.67157544, 18.38397555, 21.31159591, 18.0622116 , 18.94432318,\n",
              "       22.        , 20.81412084, 21.33948438, 21.10803754, 20.5778349 ,\n",
              "       18.82208835, 19.12059145, 20.08780979, 18.19366835, 18.5029455 ,\n",
              "       18.86537854, 18.83838562, 18.83474728, 19.23245287, 21.99767655,\n",
              "       20.8571396 , 20.23593115, 21.4679933 , 18.57773263, 20.30721046,\n",
              "       20.11993142, 21.66109981, 19.52782862, 22.        , 19.57095117,\n",
              "       20.53126665, 22.        , 18.23060759, 22.        , 21.51033705,\n",
              "       21.23504812, 22.        , 18.1180223 , 19.48909153, 20.8628624 ,\n",
              "       19.23003334, 22.        , 18.16315855, 21.42685581, 21.96127535,\n",
              "       20.81518372, 20.63025371, 22.        , 19.66890328, 20.59990287,\n",
              "       20.12977522, 20.65931537, 18.68169151, 21.97992188, 19.39492908,\n",
              "       18.5005786 , 21.79293906, 21.2976387 , 20.04851752, 21.15560174,\n",
              "       20.46862865, 20.99221335, 21.99261418, 20.21592207, 22.        ])"
            ]
          },
          "metadata": {},
          "execution_count": 16
        }
      ]
    },
    {
      "cell_type": "code",
      "source": [
        "accuracy_elongation"
      ],
      "metadata": {
        "colab": {
          "base_uri": "https://localhost:8080/"
        },
        "id": "bGgBFb7cyKAR",
        "outputId": "f2687b36-6c95-459e-aeba-1ea2d7a47b59"
      },
      "execution_count": null,
      "outputs": [
        {
          "output_type": "execute_result",
          "data": {
            "text/plain": [
              "0.995750602295408"
            ]
          },
          "metadata": {},
          "execution_count": 17
        }
      ]
    },
    {
      "cell_type": "markdown",
      "source": [
        "Conductivity Model"
      ],
      "metadata": {
        "id": "2hwIXALuyeB9"
      }
    },
    {
      "cell_type": "code",
      "source": [
        "y_conductivity = data['Conductivity_IACS']"
      ],
      "metadata": {
        "id": "cN-lgs1ayuL7"
      },
      "execution_count": null,
      "outputs": []
    },
    {
      "cell_type": "code",
      "source": [
        "X_train, X_test, y_conductivity_train, y_conductivity_test = train_test_split(X, y_conductivity, test_size=0.2, random_state=42)"
      ],
      "metadata": {
        "id": "nJeRrnRSyy2a"
      },
      "execution_count": null,
      "outputs": []
    },
    {
      "cell_type": "code",
      "source": [
        "best_model_conductivity = find_best_model(X_train, y_conductivity_train, X_test, y_conductivity_test, \"Conductivity\")"
      ],
      "metadata": {
        "colab": {
          "base_uri": "https://localhost:8080/"
        },
        "id": "_jo4J4l-y97K",
        "outputId": "c7767a2a-a65f-49f4-ea21-bbfcdcc305e9"
      },
      "execution_count": null,
      "outputs": [
        {
          "output_type": "stream",
          "name": "stdout",
          "text": [
            "Model: SVR, Target: Conductivity, Best Params: {'C': 0.1, 'kernel': 'linear'}, Score: 0.9977347594562673\n",
            "Model: DecisionTree, Target: Conductivity, Best Params: {'max_depth': 15, 'min_samples_split': 10}, Score: 0.9915389419622976\n",
            "Model: RandomForest, Target: Conductivity, Best Params: {'max_depth': 15, 'n_estimators': 200}, Score: 0.9968071424721332\n",
            "\n",
            "Best model for Conductivity: SVR with score: 0.9977347594562673\n",
            "\n"
          ]
        }
      ]
    },
    {
      "cell_type": "code",
      "source": [
        "y_conductivity_pred = best_model_conductivity.predict(X_test)\n",
        "accuracy_conductivity = best_model_conductivity.score(X_test, y_conductivity_test)"
      ],
      "metadata": {
        "id": "NNPwZ_TuzU0u"
      },
      "execution_count": null,
      "outputs": []
    },
    {
      "cell_type": "code",
      "source": [
        "y_conductivity_pred"
      ],
      "metadata": {
        "colab": {
          "base_uri": "https://localhost:8080/"
        },
        "id": "kGf7T3w6zb2V",
        "outputId": "d8b34378-f1fd-471d-f826-153f3f6c1f69"
      },
      "execution_count": null,
      "outputs": [
        {
          "output_type": "execute_result",
          "data": {
            "text/plain": [
              "array([65.49989627, 56.75903312, 59.55871135, 61.16038311, 64.52618255,\n",
              "       65.35697503, 61.57251628, 62.81281169, 58.83030126, 60.30529422,\n",
              "       56.32019335, 58.12438508, 63.55926608, 59.05027404, 59.42316215,\n",
              "       60.63463438, 59.42305174, 65.54383016, 56.56819056, 60.77519846,\n",
              "       58.73505762, 63.27725594, 58.75005523, 55.77666622, 63.87807028,\n",
              "       59.62885868, 56.45722345, 57.01671804, 58.19152021, 62.74461004,\n",
              "       60.30947336, 61.6416408 , 64.53161233, 64.35013608, 62.48083703,\n",
              "       63.74743949, 63.10679991, 65.13310112, 57.52188535, 57.4473673 ,\n",
              "       59.58782815, 58.80569454, 60.01551426, 59.3522069 , 62.05129336,\n",
              "       59.84304441, 56.64315795, 59.58635641, 58.83264993, 60.8085328 ,\n",
              "       57.25070576, 56.69913114, 58.12036711, 61.93294824, 64.32076998,\n",
              "       65.43359084, 62.10681596, 57.261142  , 62.3841955 , 62.74438478,\n",
              "       59.87918612, 56.63210138, 60.54305739, 59.02265516, 65.22682963,\n",
              "       58.08705977, 59.70235429, 56.7798676 , 61.38121904, 61.12282303,\n",
              "       56.75385749, 62.6363565 , 61.29862579, 58.58515393, 65.74796484,\n",
              "       56.5585101 , 61.22469521, 57.10700598, 64.50190664, 60.6881872 ,\n",
              "       63.59479194, 57.74625751, 57.23875566, 62.15303648, 64.90221516,\n",
              "       55.76313452, 59.02544732, 64.1915361 , 62.34712784, 61.34961124,\n",
              "       59.68596126, 59.71943547, 61.79413226, 60.57097971, 60.75146595,\n",
              "       58.8742208 , 56.01394304, 63.71297346, 65.35793099, 56.54668164,\n",
              "       58.55495176, 63.15075934, 56.90093175, 62.80924481, 57.73612488,\n",
              "       64.76466292, 58.10752374, 64.43044573, 63.50093737, 57.32047441,\n",
              "       61.13759189, 63.66060516, 59.34076221, 58.71863587, 56.64416992,\n",
              "       63.05132533, 57.51492837, 56.79317129, 65.63679628, 60.23257408,\n",
              "       62.26078996, 63.20734349, 57.35339742, 63.12158074, 62.31381721,\n",
              "       65.47959803, 63.98507893, 64.84040212, 56.42849318, 64.20319004,\n",
              "       59.16543141, 57.04288901, 61.88113315, 55.86783269, 57.74176527,\n",
              "       64.51803987, 61.81058279, 62.26520224, 61.90694476, 61.22778273,\n",
              "       57.82611118, 58.56905987, 60.0155076 , 56.39771051, 56.54599137,\n",
              "       56.79397791, 58.05691952, 57.6898293 , 58.29398158, 64.86271914,\n",
              "       61.74880498, 60.45610581, 63.25851759, 57.44963316, 60.64136339,\n",
              "       60.57082354, 63.08976255, 59.09414557, 64.48976199, 58.82128382,\n",
              "       61.64937312, 64.21333148, 55.91225662, 64.99833093, 63.60340715,\n",
              "       62.05059729, 64.84844637, 56.14760917, 58.40244272, 61.96651742,\n",
              "       58.89709961, 65.14080237, 56.29905736, 62.96942431, 64.33329626,\n",
              "       61.19900624, 60.92277269, 64.53606524, 58.72833807, 60.91117339,\n",
              "       59.61788715, 61.30429867, 58.06810858, 63.82625245, 58.30491054,\n",
              "       57.05503766, 62.84311287, 61.83957818, 59.76785804, 61.65423385,\n",
              "       60.43432076, 62.27757998, 63.74522778, 60.09931036, 65.86467089])"
            ]
          },
          "metadata": {},
          "execution_count": 22
        }
      ]
    },
    {
      "cell_type": "code",
      "source": [
        "accuracy_conductivity"
      ],
      "metadata": {
        "colab": {
          "base_uri": "https://localhost:8080/"
        },
        "id": "8MYPnTpgzpzz",
        "outputId": "493bd898-8480-4c41-f0bf-dc591fa2f1b4"
      },
      "execution_count": null,
      "outputs": [
        {
          "output_type": "execute_result",
          "data": {
            "text/plain": [
              "0.9977347594562673"
            ]
          },
          "metadata": {},
          "execution_count": 23
        }
      ]
    },
    {
      "cell_type": "code",
      "source": [
        "def predict_new_values():\n",
        "    print(\"\\nEnter the following values for prediction:\")\n",
        "    features = []\n",
        "    for col in X.columns:\n",
        "        value = float(input(f\"Enter {col}: \"))\n",
        "        features.append(value)\n",
        "    input_data = pd.DataFrame([features], columns=X.columns)\n",
        "    uts_pred = best_model_uts.predict(input_data)\n",
        "    elongation_pred = best_model_elongation.predict(input_data)\n",
        "    conductivity_pred = best_model_conductivity.predict(input_data)\n",
        "    print(\"calculating........\")\n",
        "    print(f\"Predicted UTS (MPa): {uts_pred[0]}\")\n",
        "    print(f\"Predicted Elongation (%): {elongation_pred[0]}\")\n",
        "    print(f\"Predicted Conductivity (% IACS): {conductivity_pred[0]}\")"
      ],
      "metadata": {
        "id": "gzAaRlCNzwS7"
      },
      "execution_count": null,
      "outputs": []
    },
    {
      "cell_type": "code",
      "source": [
        "predict_new_values()"
      ],
      "metadata": {
        "colab": {
          "base_uri": "https://localhost:8080/"
        },
        "id": "QdJOQlgyz5OT",
        "outputId": "d64e8edb-e7f5-470e-ceb5-2391aaba9bda"
      },
      "execution_count": null,
      "outputs": [
        {
          "output_type": "stream",
          "name": "stdout",
          "text": [
            "\n",
            "Enter the following values for prediction:\n",
            "Enter Casting_Temp_C: 600\n",
            "Enter Cooling_Water_Temp_C: 51\n",
            "Enter Casting_Speed_m_per_min: 2\n",
            "Enter Cast_Bar_Entry_Temp_C: 405\n",
            "Enter Emulsion_Temp_C: 68\n",
            "Enter Emulsion_Pressure_bar: 10\n",
            "Enter Emulsion_Concentration_percent: 15\n",
            "Enter Rod_Quench_Water_Pressure_bar: 200\n",
            "calculating........\n",
            "Predicted UTS (MPa): 228.68050598724193\n",
            "Predicted Elongation (%): 22.0\n",
            "Predicted Conductivity (% IACS): 88.8063258464577\n"
          ]
        }
      ]
    },
    {
      "cell_type": "code",
      "source": [
        "joblib.dump(best_model_uts, 'best_model_uts.pkl')\n",
        "joblib.dump(best_model_elongation, 'best_model_elongation.pkl')\n",
        "joblib.dump(best_model_conductivity, 'best_model_conductivity.pkl')"
      ],
      "metadata": {
        "colab": {
          "base_uri": "https://localhost:8080/"
        },
        "id": "uAtVIOIBDYSQ",
        "outputId": "5c413adf-4898-4612-a083-9955951571a5"
      },
      "execution_count": null,
      "outputs": [
        {
          "output_type": "execute_result",
          "data": {
            "text/plain": [
              "['best_model_conductivity.pkl']"
            ]
          },
          "metadata": {},
          "execution_count": 26
        }
      ]
    },
    {
      "cell_type": "code",
      "source": [],
      "metadata": {
        "id": "EKWCYXeeEEH8"
      },
      "execution_count": null,
      "outputs": []
    }
  ]
}